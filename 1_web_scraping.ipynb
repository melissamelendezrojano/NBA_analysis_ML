{
 "cells": [
  {
   "cell_type": "code",
   "execution_count": 1,
   "id": "8c885ea5",
   "metadata": {},
   "outputs": [],
   "source": [
    "from bs4 import BeautifulSoup\n",
    "import requests\n",
    "import time\n",
    "import os\n",
    "from urllib.request import Request, urlopen"
   ]
  },
  {
   "cell_type": "code",
   "execution_count": 2,
   "id": "19eb6299",
   "metadata": {},
   "outputs": [],
   "source": [
    "# Configurar directorio\n",
    "data_dir = \"datanba\"\n",
    "standings_dir = os.path.join(data_dir, \"standings\")\n",
    "scores_dir = os.path.join(data_dir, \"scores\")"
   ]
  },
  {
   "cell_type": "code",
   "execution_count": 3,
   "id": "cb717582",
   "metadata": {
    "scrolled": true
   },
   "outputs": [
    {
     "data": {
      "text/plain": [
       "[2014, 2015, 2016, 2017, 2018, 2019, 2020, 2021, 2022, 2023]"
      ]
     },
     "execution_count": 3,
     "metadata": {},
     "output_type": "execute_result"
    }
   ],
   "source": [
    "seasons = list(range(2014, 2024))\n",
    "seasons"
   ]
  },
  {
   "cell_type": "code",
   "execution_count": 4,
   "id": "6a1fc78e",
   "metadata": {},
   "outputs": [],
   "source": [
    "base_url = \"https://basketball-reference.com\""
   ]
  },
  {
   "cell_type": "markdown",
   "id": "0534f2ce",
   "metadata": {},
   "source": [
    "## 1. Obtener HTML de la url y devolver HTML"
   ]
  },
  {
   "cell_type": "code",
   "execution_count": 5,
   "id": "94cfb5fd",
   "metadata": {},
   "outputs": [],
   "source": [
    "def get_html(url, sleep=2, retries=3):\n",
    "    html = None\n",
    "    for i in range(1, retries+1):\n",
    "        time.sleep(sleep * i)\n",
    "    \n",
    "        result = requests.get(url)\n",
    "        content = result.text\n",
    "        html = BeautifulSoup(content, 'html.parser')\n",
    "\n",
    "    return html"
   ]
  },
  {
   "cell_type": "markdown",
   "id": "137bcf3f",
   "metadata": {},
   "source": [
    "## 2. Obtener la clasificación de una temporada y guardarla en un archivo html"
   ]
  },
  {
   "cell_type": "code",
   "execution_count": 6,
   "id": "25d7cde8",
   "metadata": {},
   "outputs": [],
   "source": [
    "def scrape_season(season):\n",
    "    url = f\"{base_url}/leagues/NBA_{season}_games.html\"\n",
    "    html = get_html(url)\n",
    "    \n",
    "    links = html.find('div', class_='filter').find_all('a')\n",
    "    hrefs = [l['href'] for l in links]\n",
    "    standings_pages = [f\"{base_url}{h}\" for h in hrefs]\n",
    "    \n",
    "    for url in standings_pages:\n",
    "        save_path = os.path.join(standings_dir, url.split(\"/\")[-1])\n",
    "        if os.path.exists(save_path):\n",
    "            continue\n",
    "           \n",
    "        html = get_html(url)\n",
    "        html_str = str(html)\n",
    "        with open(save_path, \"w+\", encoding='utf-8') as x:\n",
    "            x.write(html_str)"
   ]
  },
  {
   "cell_type": "code",
   "execution_count": null,
   "id": "8ec7a601",
   "metadata": {
    "scrolled": true
   },
   "outputs": [],
   "source": [
    "for season in seasons:\n",
    "    scrape_season(season)"
   ]
  },
  {
   "cell_type": "code",
   "execution_count": 7,
   "id": "3c2a7ace",
   "metadata": {
    "scrolled": true
   },
   "outputs": [],
   "source": [
    "standings_files = os.listdir(standings_dir)"
   ]
  },
  {
   "cell_type": "markdown",
   "id": "0795623a",
   "metadata": {},
   "source": [
    "## 3. Obtener el boxscore de cada partido para cada mes y temporada\n"
   ]
  },
  {
   "cell_type": "code",
   "execution_count": 8,
   "id": "92378eb3",
   "metadata": {},
   "outputs": [],
   "source": [
    "def boxscore_games(standings_file):\n",
    "    with open(standings_file, 'r', encoding='utf-8') as f:\n",
    "        html = f.read()\n",
    "\n",
    "    soup = BeautifulSoup(html, 'html.parser')\n",
    "    links = soup.find_all(\"a\")\n",
    "    href = [l.get(\"href\") for l in links]\n",
    "    box_scores = [l for l in href if l and \"boxscore\" in l and \".html\" in l]\n",
    "    box_scores = [f\"{base_url}{b}\" for b in box_scores]\n",
    "    \n",
    "    name_file = os.path.basename(standings_file)\n",
    "\n",
    "    for url in box_scores:\n",
    "        save_path = os.path.join(scores_dir, url.split(\"/\")[-1])\n",
    "        if os.path.exists(save_path):\n",
    "            continue\n",
    "\n",
    "        html = get_html(url)\n",
    "        html_str = str(html)\n",
    "\n",
    "        if not html:\n",
    "            continue\n",
    "        with open(save_path, \"w+\", encoding='utf-8') as f:\n",
    "            f.write(html_str)"
   ]
  },
  {
   "cell_type": "code",
   "execution_count": 13,
   "id": "45374927",
   "metadata": {
    "scrolled": false
   },
   "outputs": [],
   "source": [
    "for season in seasons:\n",
    "    files = [s for s in standings_files if str(season) in s]\n",
    "    \n",
    "    for f in files:\n",
    "        filepath = os.path.join(standings_dir, f)\n",
    "        \n",
    "        boxscore_games(filepath)"
   ]
  },
  {
   "cell_type": "markdown",
   "id": "a7aac75b",
   "metadata": {},
   "source": [
    "# 4. Abrir archivos con datos corruptos, para volver a hacer el web scraping"
   ]
  },
  {
   "cell_type": "code",
   "execution_count": null,
   "id": "2db06f62",
   "metadata": {},
   "outputs": [],
   "source": [
    "file = \"corruptedbox.txt\"\n",
    "\n",
    "corrupted_box = []\n",
    "\n",
    "with open(file, \"r\") as f:\n",
    "    for line in f:\n",
    "        corrupted_box.append(line.strip())"
   ]
  },
  {
   "cell_type": "markdown",
   "id": "6fdd4311",
   "metadata": {},
   "source": [
    "Cambiar la variable seasons para incluir menos temporadas, así tardará menos"
   ]
  },
  {
   "cell_type": "code",
   "execution_count": 1,
   "id": "5ce5bb2a",
   "metadata": {},
   "outputs": [
    {
     "data": {
      "text/plain": [
       "[2014, 2015]"
      ]
     },
     "execution_count": 1,
     "metadata": {},
     "output_type": "execute_result"
    }
   ],
   "source": [
    "seasons = list(range(2014, 2016))\n",
    "seasons"
   ]
  },
  {
   "cell_type": "code",
   "execution_count": 5,
   "id": "82ec6289",
   "metadata": {},
   "outputs": [],
   "source": [
    "def get_html(url, sleep=2, retries=3):\n",
    "    html = None\n",
    "    for i in range(1, retries+1):\n",
    "        time.sleep(sleep * i)\n",
    "    \n",
    "        result = requests.get(url)\n",
    "        content = result.text\n",
    "        html = BeautifulSoup(content, 'html.parser')\n",
    "\n",
    "    return html"
   ]
  },
  {
   "cell_type": "code",
   "execution_count": 6,
   "id": "c175c5a4",
   "metadata": {},
   "outputs": [],
   "source": [
    "def scrape_season(season):\n",
    "    url = f\"{base_url}/leagues/NBA_{season}_games.html\"\n",
    "    html = get_html(url)\n",
    "    \n",
    "    links = html.find('div', class_='filter').find_all('a')\n",
    "    hrefs = [l['href'] for l in links]\n",
    "    standings_pages = [f\"{base_url}{h}\" for h in hrefs]\n",
    "    \n",
    "    for url in standings_pages:\n",
    "        save_path = os.path.join(standings_dir, url.split(\"/\")[-1])\n",
    "        if os.path.exists(save_path):\n",
    "            continue\n",
    "           \n",
    "        html = get_html(url)\n",
    "        html_str = str(html)\n",
    "        with open(save_path, \"w+\", encoding='utf-8') as x:\n",
    "            x.write(html_str)"
   ]
  },
  {
   "cell_type": "code",
   "execution_count": null,
   "id": "3480801d",
   "metadata": {
    "scrolled": true
   },
   "outputs": [],
   "source": [
    "for season in seasons:\n",
    "    scrape_season(season)"
   ]
  },
  {
   "cell_type": "code",
   "execution_count": 7,
   "id": "4631521c",
   "metadata": {
    "scrolled": true
   },
   "outputs": [],
   "source": [
    "standings_files = os.listdir(standings_dir)"
   ]
  },
  {
   "cell_type": "code",
   "execution_count": 8,
   "id": "23a7c3db",
   "metadata": {},
   "outputs": [],
   "source": [
    "def boxscore_games(standings_file):\n",
    "    with open(standings_file, 'r', encoding='utf-8') as f:\n",
    "        html = f.read()\n",
    "\n",
    "    soup = BeautifulSoup(html, 'html.parser')\n",
    "    links = soup.find_all(\"a\")\n",
    "    href = [l.get(\"href\") for l in links]\n",
    "    box_scores = [l for l in href if l and \"boxscore\" in l and \".html\" in l]\n",
    "    box_scores = [f\"{base_url}{b}\" for b in box_scores]\n",
    "    \n",
    "    name_file = os.path.basename(standings_file)\n",
    "\n",
    "    for url in box_scores:\n",
    "        save_path = os.path.join(scores_dir, url.split(\"/\")[-1])\n",
    "        if os.path.exists(save_path):\n",
    "            continue\n",
    "\n",
    "        html = get_html(url)\n",
    "        html_str = str(html)\n",
    "\n",
    "        if not html:\n",
    "            continue\n",
    "        with open(save_path, \"w+\", encoding='utf-8') as f:\n",
    "            f.write(html_str)"
   ]
  },
  {
   "cell_type": "code",
   "execution_count": 13,
   "id": "3dc2c5c6",
   "metadata": {
    "scrolled": false
   },
   "outputs": [],
   "source": [
    "for season in seasons:\n",
    "    files = [s for s in standings_files if str(season) in s]\n",
    "    \n",
    "    for f in files:\n",
    "        filepath = os.path.join(standings_dir, f)\n",
    "        \n",
    "        boxscore_games(filepath)"
   ]
  }
 ],
 "metadata": {
  "kernelspec": {
   "display_name": "Python 3 (ipykernel)",
   "language": "python",
   "name": "python3"
  },
  "language_info": {
   "codemirror_mode": {
    "name": "ipython",
    "version": 3
   },
   "file_extension": ".py",
   "mimetype": "text/x-python",
   "name": "python",
   "nbconvert_exporter": "python",
   "pygments_lexer": "ipython3",
   "version": "3.9.7"
  }
 },
 "nbformat": 4,
 "nbformat_minor": 5
}
